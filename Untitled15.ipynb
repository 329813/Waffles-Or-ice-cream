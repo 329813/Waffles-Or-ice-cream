{
  "nbformat": 4,
  "nbformat_minor": 0,
  "metadata": {
    "colab": {
      "provenance": [],
      "authorship_tag": "ABX9TyMAtTMbnUtDV7U3Rw6ZOH9z",
      "include_colab_link": true
    },
    "kernelspec": {
      "name": "python3",
      "display_name": "Python 3"
    },
    "language_info": {
      "name": "python"
    }
  },
  "cells": [
    {
      "cell_type": "markdown",
      "metadata": {
        "id": "view-in-github",
        "colab_type": "text"
      },
      "source": [
        "<a href=\"https://colab.research.google.com/github/329813/Waffles-Or-ice-cream/blob/main/Untitled15.ipynb\" target=\"_parent\"><img src=\"https://colab.research.google.com/assets/colab-badge.svg\" alt=\"Open In Colab\"/></a>"
      ]
    },
    {
      "cell_type": "code",
      "execution_count": 1,
      "metadata": {
        "colab": {
          "base_uri": "https://localhost:8080/"
        },
        "id": "F2WP5509-aVF",
        "outputId": "ae7aef03-d56d-469a-e90e-2dc411bfa650"
      },
      "outputs": [
        {
          "output_type": "stream",
          "name": "stdout",
          "text": [
            "Mounted at /content/drive\n"
          ]
        }
      ],
      "source": [
        "\n",
        "from google.colab import drive\n",
        "drive.mount('/content/drive', force_remount=True)\n"
      ]
    },
    {
      "cell_type": "code",
      "source": [
        "\n",
        "train_dir = '/content/drive/MyDrive/Waffles Or ice-cream/train'\n",
        "test_dir = '/content/drive/MyDrive/Waffles Or ice-cream/test'"
      ],
      "metadata": {
        "id": "VbPxrccw-y7u"
      },
      "execution_count": 2,
      "outputs": []
    },
    {
      "cell_type": "code",
      "source": [
        "import os\n",
        "print(len(os.listdir('/content/drive/MyDrive/Waffles Or ice-cream/train/Waffles')))\n",
        "print(len(os.listdir('/content/drive/MyDrive/Waffles Or ice-cream/train/ice - cream')))\n",
        "print(len(os.listdir('/content/drive/MyDrive/Waffles Or ice-cream/test/Waffles')))\n",
        "print(len(os.listdir('/content/drive/MyDrive/Waffles Or ice-cream/test/ice - cream')))"
      ],
      "metadata": {
        "colab": {
          "base_uri": "https://localhost:8080/"
        },
        "id": "xgXO53Fo_NCE",
        "outputId": "cbb9d18f-4eb7-475d-a07c-d2873cb8eba8"
      },
      "execution_count": 3,
      "outputs": [
        {
          "output_type": "stream",
          "name": "stdout",
          "text": [
            "355\n",
            "343\n",
            "355\n",
            "343\n"
          ]
        }
      ]
    },
    {
      "cell_type": "code",
      "source": [
        "import tensorflow as tf\n",
        "from tensorflow.keras.preprocessing.image import ImageDataGenerator\n",
        "\n",
        "train_datagen = ImageDataGenerator(\n",
        "    rescale=1./255,\n",
        "    validation_split=0.2\n",
        ")\n",
        "\n",
        "train_data = train_datagen.flow_from_directory(\n",
        "    train_dir,\n",
        "    target_size=(256,256),\n",
        "    batch_size=32,\n",
        "    class_mode='binary',\n",
        "    subset='training'\n",
        ")\n",
        "\n",
        "validation_datagen = ImageDataGenerator(\n",
        "    rescale=1./255,\n",
        "    validation_split=0.2\n",
        ")\n",
        "\n",
        "\n",
        "validation_data = validation_datagen.flow_from_directory(\n",
        "    train_dir,\n",
        "    target_size=(256,256),\n",
        "    batch_size=32,\n",
        "    class_mode='binary',\n",
        "    subset='validation'\n",
        ")"
      ],
      "metadata": {
        "colab": {
          "base_uri": "https://localhost:8080/"
        },
        "id": "rTa8_Ngu_tE9",
        "outputId": "cee1d126-8ead-4df3-e85a-6789254261c7"
      },
      "execution_count": 4,
      "outputs": [
        {
          "output_type": "stream",
          "name": "stdout",
          "text": [
            "Found 556 images belonging to 2 classes.\n",
            "Found 138 images belonging to 2 classes.\n"
          ]
        }
      ]
    },
    {
      "cell_type": "code",
      "source": [
        "from tensorflow import keras\n",
        "from keras import Sequential\n",
        "from keras.layers import Dense,Conv2D,MaxPooling2D,Flatten,BatchNormalization,UpSampling2D, Dropout"
      ],
      "metadata": {
        "id": "0g7pY8Xh__1e"
      },
      "execution_count": 5,
      "outputs": []
    },
    {
      "cell_type": "code",
      "source": [
        "# create CNN model\n",
        "\n",
        "model = Sequential()\n",
        "\n",
        "model.add(Conv2D(32,kernel_size=(3,3),padding='valid',activation='relu',input_shape=(256,256,3)))\n",
        "model.add(MaxPooling2D(pool_size=(2,2),strides=2,padding='valid'))\n",
        "\n",
        "model.add(Conv2D(64,kernel_size=(3,3),padding='valid',activation='relu'))\n",
        "model.add(MaxPooling2D(pool_size=(2,2),strides=2,padding='valid'))\n",
        "\n",
        "model.add(Conv2D(128,kernel_size=(3,3),padding='valid',activation='relu'))\n",
        "model.add(MaxPooling2D(pool_size=(2,2),strides=2,padding='valid'))\n",
        "\n",
        "model.add(Flatten())\n",
        "\n",
        "model.add(Dense(128,activation='relu'))\n",
        "model.add(Dense(64,activation='relu'))\n",
        "model.add(Dense(1,activation='sigmoid'))"
      ],
      "metadata": {
        "colab": {
          "base_uri": "https://localhost:8080/"
        },
        "id": "Ve0cnLD9AG4m",
        "outputId": "d7da32f7-683b-4b38-f2a5-800136942062"
      },
      "execution_count": 6,
      "outputs": [
        {
          "output_type": "stream",
          "name": "stderr",
          "text": [
            "/usr/local/lib/python3.10/dist-packages/keras/src/layers/convolutional/base_conv.py:107: UserWarning: Do not pass an `input_shape`/`input_dim` argument to a layer. When using Sequential models, prefer using an `Input(shape)` object as the first layer in the model instead.\n",
            "  super().__init__(activity_regularizer=activity_regularizer, **kwargs)\n"
          ]
        }
      ]
    },
    {
      "cell_type": "code",
      "source": [
        "from keras.optimizers import Adam\n",
        "model.compile(optimizer=Adam(learning_rate=0.001),loss='binary_crossentropy',metrics=['accuracy'])"
      ],
      "metadata": {
        "id": "CUZ1UVciASiF"
      },
      "execution_count": 7,
      "outputs": []
    },
    {
      "cell_type": "code",
      "source": [
        "history = model.fit(train_data, epochs=20, validation_data=validation_data)"
      ],
      "metadata": {
        "colab": {
          "base_uri": "https://localhost:8080/"
        },
        "id": "5RiyhECqAVnR",
        "outputId": "6a0a0f5f-228a-4142-940f-0cea2347de5c"
      },
      "execution_count": 8,
      "outputs": [
        {
          "output_type": "stream",
          "name": "stdout",
          "text": [
            "Epoch 1/20\n"
          ]
        },
        {
          "output_type": "stream",
          "name": "stderr",
          "text": [
            "/usr/local/lib/python3.10/dist-packages/keras/src/trainers/data_adapters/py_dataset_adapter.py:122: UserWarning: Your `PyDataset` class should call `super().__init__(**kwargs)` in its constructor. `**kwargs` can include `workers`, `use_multiprocessing`, `max_queue_size`. Do not pass these arguments to `fit()`, as they will be ignored.\n",
            "  self._warn_if_super_not_called()\n"
          ]
        },
        {
          "output_type": "stream",
          "name": "stdout",
          "text": [
            "\u001b[1m18/18\u001b[0m \u001b[32m━━━━━━━━━━━━━━━━━━━━\u001b[0m\u001b[37m\u001b[0m \u001b[1m223s\u001b[0m 8s/step - accuracy: 0.4804 - loss: 1.0793 - val_accuracy: 0.7681 - val_loss: 0.4836\n",
            "Epoch 2/20\n",
            "\u001b[1m18/18\u001b[0m \u001b[32m━━━━━━━━━━━━━━━━━━━━\u001b[0m\u001b[37m\u001b[0m \u001b[1m131s\u001b[0m 5s/step - accuracy: 0.7775 - loss: 0.4559 - val_accuracy: 0.8406 - val_loss: 0.3665\n",
            "Epoch 3/20\n",
            "\u001b[1m18/18\u001b[0m \u001b[32m━━━━━━━━━━━━━━━━━━━━\u001b[0m\u001b[37m\u001b[0m \u001b[1m86s\u001b[0m 5s/step - accuracy: 0.8355 - loss: 0.3630 - val_accuracy: 0.8478 - val_loss: 0.3716\n",
            "Epoch 4/20\n",
            "\u001b[1m18/18\u001b[0m \u001b[32m━━━━━━━━━━━━━━━━━━━━\u001b[0m\u001b[37m\u001b[0m \u001b[1m142s\u001b[0m 5s/step - accuracy: 0.8710 - loss: 0.2844 - val_accuracy: 0.8333 - val_loss: 0.3690\n",
            "Epoch 5/20\n",
            "\u001b[1m18/18\u001b[0m \u001b[32m━━━━━━━━━━━━━━━━━━━━\u001b[0m\u001b[37m\u001b[0m \u001b[1m86s\u001b[0m 5s/step - accuracy: 0.9285 - loss: 0.2057 - val_accuracy: 0.8913 - val_loss: 0.3207\n",
            "Epoch 6/20\n",
            "\u001b[1m18/18\u001b[0m \u001b[32m━━━━━━━━━━━━━━━━━━━━\u001b[0m\u001b[37m\u001b[0m \u001b[1m143s\u001b[0m 5s/step - accuracy: 0.9452 - loss: 0.1164 - val_accuracy: 0.8551 - val_loss: 0.5240\n",
            "Epoch 7/20\n",
            "\u001b[1m18/18\u001b[0m \u001b[32m━━━━━━━━━━━━━━━━━━━━\u001b[0m\u001b[37m\u001b[0m \u001b[1m141s\u001b[0m 5s/step - accuracy: 0.9770 - loss: 0.0785 - val_accuracy: 0.7681 - val_loss: 0.7922\n",
            "Epoch 8/20\n",
            "\u001b[1m18/18\u001b[0m \u001b[32m━━━━━━━━━━━━━━━━━━━━\u001b[0m\u001b[37m\u001b[0m \u001b[1m143s\u001b[0m 5s/step - accuracy: 0.9907 - loss: 0.0373 - val_accuracy: 0.8261 - val_loss: 0.7358\n",
            "Epoch 9/20\n",
            "\u001b[1m18/18\u001b[0m \u001b[32m━━━━━━━━━━━━━━━━━━━━\u001b[0m\u001b[37m\u001b[0m \u001b[1m91s\u001b[0m 5s/step - accuracy: 0.9870 - loss: 0.0432 - val_accuracy: 0.8188 - val_loss: 0.5972\n",
            "Epoch 10/20\n",
            "\u001b[1m18/18\u001b[0m \u001b[32m━━━━━━━━━━━━━━━━━━━━\u001b[0m\u001b[37m\u001b[0m \u001b[1m137s\u001b[0m 5s/step - accuracy: 0.9959 - loss: 0.0212 - val_accuracy: 0.8551 - val_loss: 0.7921\n",
            "Epoch 11/20\n",
            "\u001b[1m18/18\u001b[0m \u001b[32m━━━━━━━━━━━━━━━━━━━━\u001b[0m\u001b[37m\u001b[0m \u001b[1m142s\u001b[0m 5s/step - accuracy: 1.0000 - loss: 0.0027 - val_accuracy: 0.8333 - val_loss: 0.7626\n",
            "Epoch 12/20\n",
            "\u001b[1m18/18\u001b[0m \u001b[32m━━━━━━━━━━━━━━━━━━━━\u001b[0m\u001b[37m\u001b[0m \u001b[1m86s\u001b[0m 5s/step - accuracy: 1.0000 - loss: 0.0038 - val_accuracy: 0.8333 - val_loss: 0.7219\n",
            "Epoch 13/20\n",
            "\u001b[1m18/18\u001b[0m \u001b[32m━━━━━━━━━━━━━━━━━━━━\u001b[0m\u001b[37m\u001b[0m \u001b[1m141s\u001b[0m 5s/step - accuracy: 1.0000 - loss: 6.3704e-04 - val_accuracy: 0.8478 - val_loss: 0.7876\n",
            "Epoch 14/20\n",
            "\u001b[1m18/18\u001b[0m \u001b[32m━━━━━━━━━━━━━━━━━━━━\u001b[0m\u001b[37m\u001b[0m \u001b[1m89s\u001b[0m 5s/step - accuracy: 1.0000 - loss: 6.2415e-04 - val_accuracy: 0.8478 - val_loss: 0.8229\n",
            "Epoch 15/20\n",
            "\u001b[1m18/18\u001b[0m \u001b[32m━━━━━━━━━━━━━━━━━━━━\u001b[0m\u001b[37m\u001b[0m \u001b[1m141s\u001b[0m 5s/step - accuracy: 1.0000 - loss: 2.9855e-04 - val_accuracy: 0.8478 - val_loss: 0.8554\n",
            "Epoch 16/20\n",
            "\u001b[1m18/18\u001b[0m \u001b[32m━━━━━━━━━━━━━━━━━━━━\u001b[0m\u001b[37m\u001b[0m \u001b[1m86s\u001b[0m 5s/step - accuracy: 1.0000 - loss: 1.6942e-04 - val_accuracy: 0.8406 - val_loss: 0.8698\n",
            "Epoch 17/20\n",
            "\u001b[1m18/18\u001b[0m \u001b[32m━━━━━━━━━━━━━━━━━━━━\u001b[0m\u001b[37m\u001b[0m \u001b[1m87s\u001b[0m 5s/step - accuracy: 1.0000 - loss: 2.1367e-04 - val_accuracy: 0.8478 - val_loss: 0.8812\n",
            "Epoch 18/20\n",
            "\u001b[1m18/18\u001b[0m \u001b[32m━━━━━━━━━━━━━━━━━━━━\u001b[0m\u001b[37m\u001b[0m \u001b[1m91s\u001b[0m 5s/step - accuracy: 1.0000 - loss: 1.5502e-04 - val_accuracy: 0.8478 - val_loss: 0.8977\n",
            "Epoch 19/20\n",
            "\u001b[1m18/18\u001b[0m \u001b[32m━━━━━━━━━━━━━━━━━━━━\u001b[0m\u001b[37m\u001b[0m \u001b[1m91s\u001b[0m 5s/step - accuracy: 1.0000 - loss: 1.1781e-04 - val_accuracy: 0.8406 - val_loss: 0.9120\n",
            "Epoch 20/20\n",
            "\u001b[1m18/18\u001b[0m \u001b[32m━━━━━━━━━━━━━━━━━━━━\u001b[0m\u001b[37m\u001b[0m \u001b[1m87s\u001b[0m 5s/step - accuracy: 1.0000 - loss: 1.0281e-04 - val_accuracy: 0.8478 - val_loss: 0.9211\n"
          ]
        }
      ]
    },
    {
      "cell_type": "code",
      "source": [
        "import matplotlib.pyplot as plt\n",
        "\n",
        "plt.plot(history.history['accuracy'],color='red',label='train')\n",
        "plt.plot(history.history['val_accuracy'],color='blue',label='validation')\n",
        "plt.legend()\n",
        "plt.show()"
      ],
      "metadata": {
        "colab": {
          "base_uri": "https://localhost:8080/",
          "height": 430
        },
        "id": "XFnXlf5xJqAa",
        "outputId": "5a8daa3f-432b-4474-92ec-48189e206a7e"
      },
      "execution_count": 9,
      "outputs": [
        {
          "output_type": "display_data",
          "data": {
            "text/plain": [
              "<Figure size 640x480 with 1 Axes>"
            ],
            "image/png": "[encoded data removed]"
          },
          "metadata": {}
        }
      ]
    },
    {
      "cell_type": "code",
      "source": [
        "plt.plot(history.history['loss'],color='red',label='train')\n",
        "plt.plot(history.history['val_loss'],color='blue',label='validation')\n",
        "plt.legend()\n",
        "plt.show()"
      ],
      "metadata": {
        "colab": {
          "base_uri": "https://localhost:8080/",
          "height": 430
        },
        "id": "VOuvSmgRqElM",
        "outputId": "28eaf86a-b706-4bc1-cedb-cd04180ac59d"
      },
      "execution_count": 26,
      "outputs": [
        {
          "output_type": "display_data",
          "data": {
            "text/plain": [
              "<Figure size 640x480 with 1 Axes>"
            ],
            "image/png": "[encoded data removed]"
          },
          "metadata": {}
        }
      ]
    },
    {
      "cell_type": "code",
      "source": [
        "test_datagen = ImageDataGenerator(rescale=1./255)\n",
        "test_data = test_datagen.flow_from_directory(\n",
        "    test_dir,\n",
        "    target_size=(256,256),\n",
        "    batch_size=32,\n",
        "    class_mode='binary'\n",
        ")"
      ],
      "metadata": {
        "colab": {
          "base_uri": "https://localhost:8080/"
        },
        "id": "I_6XoYHIJs0Q",
        "outputId": "c4a5478f-33e1-498a-ca9c-7eb89cac8af3"
      },
      "execution_count": 10,
      "outputs": [
        {
          "output_type": "stream",
          "name": "stdout",
          "text": [
            "Found 694 images belonging to 2 classes.\n"
          ]
        }
      ]
    },
    {
      "cell_type": "code",
      "source": [
        "#predict the test data\n",
        "predictions = model.predict(test_data)\n",
        "print(predictions)"
      ],
      "metadata": {
        "colab": {
          "base_uri": "https://localhost:8080/"
        },
        "id": "jz0rNOn4Jzcr",
        "outputId": "68cdbc7c-33aa-446b-ca0f-d6e89420913a"
      },
      "execution_count": 11,
      "outputs": [
        {
          "output_type": "stream",
          "name": "stdout",
          "text": [
            "\u001b[1m22/22\u001b[0m \u001b[32m━━━━━━━━━━━━━━━━━━━━\u001b[0m\u001b[37m\u001b[0m \u001b[1m87s\u001b[0m 4s/step\n",
            "[[4.34610265e-04]\n",
            " [7.23318830e-02]\n",
            " [1.79554991e-04]\n",
            " [9.99499440e-01]\n",
            " [9.99999940e-01]\n",
            " [3.95431445e-04]\n",
            " [6.39877282e-03]\n",
            " [9.99792457e-01]\n",
            " [9.99991357e-01]\n",
            " [2.58486538e-10]\n",
            " [9.89864830e-08]\n",
            " [9.99999523e-01]\n",
            " [9.99999166e-01]\n",
            " [9.96679068e-01]\n",
            " [9.99999166e-01]\n",
            " [9.99999166e-01]\n",
            " [5.91705771e-07]\n",
            " [2.85078022e-06]\n",
            " [9.99998629e-01]\n",
            " [6.85806881e-05]\n",
            " [9.99999940e-01]\n",
            " [6.15583645e-07]\n",
            " [9.99998450e-01]\n",
            " [1.00000000e+00]\n",
            " [4.75104012e-10]\n",
            " [9.99995172e-01]\n",
            " [9.99639332e-01]\n",
            " [9.99731123e-01]\n",
            " [9.76560159e-07]\n",
            " [5.81645192e-12]\n",
            " [1.79605445e-06]\n",
            " [9.99872625e-01]\n",
            " [9.99993861e-01]\n",
            " [9.99993920e-01]\n",
            " [1.81150472e-08]\n",
            " [3.03226716e-05]\n",
            " [9.99999225e-01]\n",
            " [5.77336234e-10]\n",
            " [3.92146148e-06]\n",
            " [9.99985218e-01]\n",
            " [2.22211165e-04]\n",
            " [9.99996424e-01]\n",
            " [1.21902417e-07]\n",
            " [9.99964714e-01]\n",
            " [9.36733250e-06]\n",
            " [9.99991536e-01]\n",
            " [5.15627926e-06]\n",
            " [9.99974549e-01]\n",
            " [6.18471688e-07]\n",
            " [2.01881107e-06]\n",
            " [9.99761879e-01]\n",
            " [1.63840174e-11]\n",
            " [9.99541104e-01]\n",
            " [9.98459876e-01]\n",
            " [2.03400489e-07]\n",
            " [1.00000000e+00]\n",
            " [9.99996662e-01]\n",
            " [2.26325469e-07]\n",
            " [9.99992311e-01]\n",
            " [9.99999523e-01]\n",
            " [5.75638012e-07]\n",
            " [1.94141994e-05]\n",
            " [8.80349721e-13]\n",
            " [9.99999523e-01]\n",
            " [2.68282093e-07]\n",
            " [9.91095483e-01]\n",
            " [8.28014706e-08]\n",
            " [6.59223986e-07]\n",
            " [1.31379638e-04]\n",
            " [1.11573977e-08]\n",
            " [9.99999881e-01]\n",
            " [1.13760752e-05]\n",
            " [2.94153113e-04]\n",
            " [1.77821846e-07]\n",
            " [9.99995828e-01]\n",
            " [9.97158289e-01]\n",
            " [2.74677214e-09]\n",
            " [6.80492018e-09]\n",
            " [9.99704003e-01]\n",
            " [1.41590455e-08]\n",
            " [2.24530861e-09]\n",
            " [3.14901399e-06]\n",
            " [9.99972761e-01]\n",
            " [1.00000000e+00]\n",
            " [9.64512348e-01]\n",
            " [9.99996245e-01]\n",
            " [9.99978065e-01]\n",
            " [9.99197662e-01]\n",
            " [3.10952710e-05]\n",
            " [9.99998927e-01]\n",
            " [5.81324677e-08]\n",
            " [9.98477817e-01]\n",
            " [1.21318866e-04]\n",
            " [1.00000000e+00]\n",
            " [8.26913019e-05]\n",
            " [2.01422299e-05]\n",
            " [5.80737196e-06]\n",
            " [1.00000000e+00]\n",
            " [9.99981761e-01]\n",
            " [2.68674860e-09]\n",
            " [1.28441854e-10]\n",
            " [4.79909261e-07]\n",
            " [9.93513882e-01]\n",
            " [1.82209205e-05]\n",
            " [4.77496883e-07]\n",
            " [8.71834462e-04]\n",
            " [3.03771230e-08]\n",
            " [9.99760807e-01]\n",
            " [9.99990761e-01]\n",
            " [6.69564429e-07]\n",
            " [9.99988258e-01]\n",
            " [3.58873198e-09]\n",
            " [9.99836326e-01]\n",
            " [4.40554277e-06]\n",
            " [1.59922533e-03]\n",
            " [9.99999881e-01]\n",
            " [9.97962296e-01]\n",
            " [1.69230373e-06]\n",
            " [9.99978781e-01]\n",
            " [1.37607703e-05]\n",
            " [9.99909163e-01]\n",
            " [8.81389249e-03]\n",
            " [9.99863267e-01]\n",
            " [9.02605254e-15]\n",
            " [1.80394551e-07]\n",
            " [4.19588514e-06]\n",
            " [9.99998510e-01]\n",
            " [7.96302899e-08]\n",
            " [2.85032855e-14]\n",
            " [6.72698388e-06]\n",
            " [9.99992728e-01]\n",
            " [9.99999464e-01]\n",
            " [9.99437690e-01]\n",
            " [9.99999225e-01]\n",
            " [9.99925613e-01]\n",
            " [1.68983459e-01]\n",
            " [6.27480680e-04]\n",
            " [9.99990821e-01]\n",
            " [2.18667267e-07]\n",
            " [1.51040453e-07]\n",
            " [6.38631582e-06]\n",
            " [9.99999642e-01]\n",
            " [3.97135649e-04]\n",
            " [7.62357104e-06]\n",
            " [2.76958674e-01]\n",
            " [6.79995038e-09]\n",
            " [1.00000000e+00]\n",
            " [9.99770701e-01]\n",
            " [9.80957985e-01]\n",
            " [9.99999225e-01]\n",
            " [4.36071314e-05]\n",
            " [4.81565658e-04]\n",
            " [9.96457160e-01]\n",
            " [9.99953032e-01]\n",
            " [8.32592923e-06]\n",
            " [1.81856612e-05]\n",
            " [1.00000000e+00]\n",
            " [3.21431289e-04]\n",
            " [2.20687616e-06]\n",
            " [9.99999881e-01]\n",
            " [9.99992251e-01]\n",
            " [9.99998689e-01]\n",
            " [2.53174903e-07]\n",
            " [2.43515950e-12]\n",
            " [9.99999344e-01]\n",
            " [9.99999940e-01]\n",
            " [9.99999583e-01]\n",
            " [1.00000000e+00]\n",
            " [1.90191276e-08]\n",
            " [1.00000000e+00]\n",
            " [2.24798941e-06]\n",
            " [9.99999821e-01]\n",
            " [5.79759444e-07]\n",
            " [9.99982595e-01]\n",
            " [5.97041947e-07]\n",
            " [9.96164858e-01]\n",
            " [9.99999881e-01]\n",
            " [3.44746113e-05]\n",
            " [1.15833693e-07]\n",
            " [9.99866188e-01]\n",
            " [7.53321729e-06]\n",
            " [1.00000000e+00]\n",
            " [9.99723732e-01]\n",
            " [9.99790192e-01]\n",
            " [1.46143464e-07]\n",
            " [3.55000943e-01]\n",
            " [9.99999464e-01]\n",
            " [3.01649943e-05]\n",
            " [9.99698222e-01]\n",
            " [9.99990523e-01]\n",
            " [1.89484963e-05]\n",
            " [1.01395674e-08]\n",
            " [4.65350213e-16]\n",
            " [4.25584090e-04]\n",
            " [5.76284992e-06]\n",
            " [9.99999046e-01]\n",
            " [9.99875367e-01]\n",
            " [1.00862596e-03]\n",
            " [1.30186807e-02]\n",
            " [2.07595178e-03]\n",
            " [2.71948484e-05]\n",
            " [1.06669211e-06]\n",
            " [9.99668300e-01]\n",
            " [9.64432955e-01]\n",
            " [1.00000000e+00]\n",
            " [9.99990344e-01]\n",
            " [2.81998824e-09]\n",
            " [9.99956012e-01]\n",
            " [9.99878645e-01]\n",
            " [9.99777257e-01]\n",
            " [1.74767556e-05]\n",
            " [1.60623244e-07]\n",
            " [1.50534981e-06]\n",
            " [1.00000000e+00]\n",
            " [1.24237772e-07]\n",
            " [9.99993265e-01]\n",
            " [1.27008423e-01]\n",
            " [6.92282143e-09]\n",
            " [3.59140785e-07]\n",
            " [9.99972880e-01]\n",
            " [9.99998093e-01]\n",
            " [9.99965668e-01]\n",
            " [9.26248252e-01]\n",
            " [5.63814417e-08]\n",
            " [9.99281883e-01]\n",
            " [4.74846202e-05]\n",
            " [9.99999642e-01]\n",
            " [7.47567450e-04]\n",
            " [9.99956906e-01]\n",
            " [9.99992788e-01]\n",
            " [6.88233355e-04]\n",
            " [9.99996066e-01]\n",
            " [1.63564593e-07]\n",
            " [9.99999821e-01]\n",
            " [2.13906693e-04]\n",
            " [7.28741361e-05]\n",
            " [4.05850096e-06]\n",
            " [1.07461365e-05]\n",
            " [9.99942124e-01]\n",
            " [9.99991536e-01]\n",
            " [9.99940991e-01]\n",
            " [2.85122725e-09]\n",
            " [3.07460279e-09]\n",
            " [9.99999583e-01]\n",
            " [1.85335658e-08]\n",
            " [6.30852953e-02]\n",
            " [7.37348842e-07]\n",
            " [4.37587232e-06]\n",
            " [6.50677970e-03]\n",
            " [4.66060510e-06]\n",
            " [2.42669979e-04]\n",
            " [9.99955535e-01]\n",
            " [9.99543548e-01]\n",
            " [9.99972880e-01]\n",
            " [5.31029931e-09]\n",
            " [9.99999642e-01]\n",
            " [4.30817863e-06]\n",
            " [2.76635328e-05]\n",
            " [9.99999523e-01]\n",
            " [2.71251992e-07]\n",
            " [9.99915421e-01]\n",
            " [9.99999881e-01]\n",
            " [1.53763212e-05]\n",
            " [9.99999404e-01]\n",
            " [9.99999166e-01]\n",
            " [5.31128717e-06]\n",
            " [2.33780113e-07]\n",
            " [1.98943102e-08]\n",
            " [7.37810368e-10]\n",
            " [5.76680839e-01]\n",
            " [7.29027283e-09]\n",
            " [1.06904292e-04]\n",
            " [1.26456723e-06]\n",
            " [5.92170712e-09]\n",
            " [9.99987423e-01]\n",
            " [9.99905944e-01]\n",
            " [9.99973238e-01]\n",
            " [4.06627776e-04]\n",
            " [9.99659419e-01]\n",
            " [9.99999821e-01]\n",
            " [9.99999881e-01]\n",
            " [9.99880254e-01]\n",
            " [3.48489451e-08]\n",
            " [1.53835390e-06]\n",
            " [1.57211899e-09]\n",
            " [9.97053862e-01]\n",
            " [3.94077745e-07]\n",
            " [9.99999881e-01]\n",
            " [5.41765168e-02]\n",
            " [9.99999523e-01]\n",
            " [9.99289572e-01]\n",
            " [9.99983966e-01]\n",
            " [2.31965700e-07]\n",
            " [9.99980211e-01]\n",
            " [1.44953627e-09]\n",
            " [8.78992068e-06]\n",
            " [9.99989688e-01]\n",
            " [4.05919855e-04]\n",
            " [4.32218812e-08]\n",
            " [7.21901364e-04]\n",
            " [9.99999642e-01]\n",
            " [9.99799192e-01]\n",
            " [7.95843542e-01]\n",
            " [7.21982028e-03]\n",
            " [4.30021828e-07]\n",
            " [9.99996722e-01]\n",
            " [3.52502917e-04]\n",
            " [7.82905590e-06]\n",
            " [1.96560664e-04]\n",
            " [1.45022194e-09]\n",
            " [9.99245465e-01]\n",
            " [6.26548399e-07]\n",
            " [6.43085787e-06]\n",
            " [1.41589851e-07]\n",
            " [6.82926975e-06]\n",
            " [9.99964833e-01]\n",
            " [9.98194993e-01]\n",
            " [3.09174793e-05]\n",
            " [9.99736190e-01]\n",
            " [1.09072253e-05]\n",
            " [2.14299398e-10]\n",
            " [9.26668584e-01]\n",
            " [1.00000000e+00]\n",
            " [2.01101304e-08]\n",
            " [9.99999940e-01]\n",
            " [9.92741406e-01]\n",
            " [2.31377157e-11]\n",
            " [2.08092321e-10]\n",
            " [9.89088058e-01]\n",
            " [9.81590986e-01]\n",
            " [1.00000000e+00]\n",
            " [5.65223512e-09]\n",
            " [2.95321024e-05]\n",
            " [5.51064795e-06]\n",
            " [1.51160620e-07]\n",
            " [5.84885251e-10]\n",
            " [3.14753312e-09]\n",
            " [9.99998212e-01]\n",
            " [9.99927819e-01]\n",
            " [1.76347985e-08]\n",
            " [9.99997437e-01]\n",
            " [3.92264283e-08]\n",
            " [9.99980986e-01]\n",
            " [9.99644637e-01]\n",
            " [9.99989629e-01]\n",
            " [4.85923374e-06]\n",
            " [1.00000000e+00]\n",
            " [2.66850350e-07]\n",
            " [9.99996066e-01]\n",
            " [9.99999821e-01]\n",
            " [9.99992907e-01]\n",
            " [2.31659044e-07]\n",
            " [9.99999940e-01]\n",
            " [9.99984264e-01]\n",
            " [1.00000000e+00]\n",
            " [3.52425937e-04]\n",
            " [9.99995172e-01]\n",
            " [9.99365568e-01]\n",
            " [9.72338557e-01]\n",
            " [9.99931633e-01]\n",
            " [9.05979414e-06]\n",
            " [9.99205470e-01]\n",
            " [3.04308563e-01]\n",
            " [3.40835413e-07]\n",
            " [2.96330418e-05]\n",
            " [5.17960871e-04]\n",
            " [9.99980390e-01]\n",
            " [2.10576195e-06]\n",
            " [1.00000000e+00]\n",
            " [9.99999940e-01]\n",
            " [4.42384085e-09]\n",
            " [9.99974668e-01]\n",
            " [3.50807240e-05]\n",
            " [9.96726334e-01]\n",
            " [1.09169130e-04]\n",
            " [7.07176787e-06]\n",
            " [5.57852609e-09]\n",
            " [4.92553040e-02]\n",
            " [1.30120025e-04]\n",
            " [2.73060487e-05]\n",
            " [1.03673046e-04]\n",
            " [9.99999344e-01]\n",
            " [1.00000000e+00]\n",
            " [4.72012474e-09]\n",
            " [2.05053784e-05]\n",
            " [1.00000000e+00]\n",
            " [9.99999940e-01]\n",
            " [1.17213945e-04]\n",
            " [9.99997914e-01]\n",
            " [1.63797807e-07]\n",
            " [1.46256178e-04]\n",
            " [2.66043025e-06]\n",
            " [9.99792635e-01]\n",
            " [7.42147584e-03]\n",
            " [9.99489725e-01]\n",
            " [6.02285902e-04]\n",
            " [3.97077969e-07]\n",
            " [9.99994695e-01]\n",
            " [2.79974015e-13]\n",
            " [4.52472449e-07]\n",
            " [9.99934912e-01]\n",
            " [3.39778489e-06]\n",
            " [9.99999821e-01]\n",
            " [9.99999285e-01]\n",
            " [9.99994338e-01]\n",
            " [2.01631579e-07]\n",
            " [9.74842231e-04]\n",
            " [1.52886676e-10]\n",
            " [9.55544965e-05]\n",
            " [9.99999583e-01]\n",
            " [2.16311469e-06]\n",
            " [4.57181250e-06]\n",
            " [5.72196882e-07]\n",
            " [5.31676023e-11]\n",
            " [9.99963701e-01]\n",
            " [3.93674593e-10]\n",
            " [9.99999762e-01]\n",
            " [9.99999225e-01]\n",
            " [2.62191321e-07]\n",
            " [1.00000000e+00]\n",
            " [9.99998748e-01]\n",
            " [9.99992013e-01]\n",
            " [5.29560793e-07]\n",
            " [1.54811878e-05]\n",
            " [9.97708559e-01]\n",
            " [4.41535121e-06]\n",
            " [7.47173590e-06]\n",
            " [9.99990225e-01]\n",
            " [9.99999940e-01]\n",
            " [4.21994741e-08]\n",
            " [9.99999940e-01]\n",
            " [9.98864830e-01]\n",
            " [9.99999166e-01]\n",
            " [4.22157260e-04]\n",
            " [6.95473236e-12]\n",
            " [7.16902605e-06]\n",
            " [9.99999285e-01]\n",
            " [2.61736168e-05]\n",
            " [9.99987841e-01]\n",
            " [2.68486360e-07]\n",
            " [4.87350417e-06]\n",
            " [9.99998927e-01]\n",
            " [9.99997497e-01]\n",
            " [8.19741146e-08]\n",
            " [9.99996662e-01]\n",
            " [1.20027189e-05]\n",
            " [9.99999642e-01]\n",
            " [1.93097685e-02]\n",
            " [9.99894023e-01]\n",
            " [4.05020401e-05]\n",
            " [9.99992430e-01]\n",
            " [6.21292449e-04]\n",
            " [1.16728933e-03]\n",
            " [1.00000000e+00]\n",
            " [9.99881566e-01]\n",
            " [9.99605238e-01]\n",
            " [6.98776489e-07]\n",
            " [1.00000000e+00]\n",
            " [9.99999821e-01]\n",
            " [9.99999344e-01]\n",
            " [9.99952853e-01]\n",
            " [9.98505771e-01]\n",
            " [9.99999583e-01]\n",
            " [9.99999821e-01]\n",
            " [9.99930382e-01]\n",
            " [9.99976516e-01]\n",
            " [1.00000000e+00]\n",
            " [1.55426338e-08]\n",
            " [9.99994874e-01]\n",
            " [3.76039395e-08]\n",
            " [9.99974370e-01]\n",
            " [2.42575130e-04]\n",
            " [1.00000000e+00]\n",
            " [7.05584995e-08]\n",
            " [9.99999881e-01]\n",
            " [1.74042540e-07]\n",
            " [9.99999821e-01]\n",
            " [3.58818197e-10]\n",
            " [2.17542693e-01]\n",
            " [1.36911016e-08]\n",
            " [4.74339630e-03]\n",
            " [9.99996483e-01]\n",
            " [9.99991775e-01]\n",
            " [2.84838898e-05]\n",
            " [3.77550077e-06]\n",
            " [1.17792509e-09]\n",
            " [3.73125850e-08]\n",
            " [2.72554118e-10]\n",
            " [9.99999881e-01]\n",
            " [1.34765258e-04]\n",
            " [7.52279186e-04]\n",
            " [1.11108566e-04]\n",
            " [1.00000000e+00]\n",
            " [7.17936273e-05]\n",
            " [9.99998450e-01]\n",
            " [1.00000000e+00]\n",
            " [1.32258940e-10]\n",
            " [9.99999106e-01]\n",
            " [4.81304426e-07]\n",
            " [1.91977870e-06]\n",
            " [1.79247960e-01]\n",
            " [9.99957681e-01]\n",
            " [5.23633361e-01]\n",
            " [9.99837518e-01]\n",
            " [4.73905720e-06]\n",
            " [3.32820741e-06]\n",
            " [7.23378551e-13]\n",
            " [2.43297363e-05]\n",
            " [9.99988079e-01]\n",
            " [1.00000000e+00]\n",
            " [9.99995410e-01]\n",
            " [9.99983132e-01]\n",
            " [5.87595787e-06]\n",
            " [1.21507327e-07]\n",
            " [9.99999702e-01]\n",
            " [9.99999881e-01]\n",
            " [9.99995708e-01]\n",
            " [1.00000000e+00]\n",
            " [3.08836162e-01]\n",
            " [9.99145150e-01]\n",
            " [2.80076606e-09]\n",
            " [1.87695696e-04]\n",
            " [9.99986887e-01]\n",
            " [9.99989331e-01]\n",
            " [9.99986231e-01]\n",
            " [4.02426650e-07]\n",
            " [2.06752144e-08]\n",
            " [6.63283402e-08]\n",
            " [1.85670268e-09]\n",
            " [1.33523557e-07]\n",
            " [9.99998152e-01]\n",
            " [4.99506712e-07]\n",
            " [9.99882877e-01]\n",
            " [9.99970794e-01]\n",
            " [9.21578973e-08]\n",
            " [2.73184822e-04]\n",
            " [9.99994159e-01]\n",
            " [9.99743700e-01]\n",
            " [1.29561886e-04]\n",
            " [1.36908870e-02]\n",
            " [3.99075088e-06]\n",
            " [1.66413161e-09]\n",
            " [9.99941051e-01]\n",
            " [4.45747810e-06]\n",
            " [9.99999106e-01]\n",
            " [9.99999940e-01]\n",
            " [9.99999344e-01]\n",
            " [8.81512641e-09]\n",
            " [1.41550799e-11]\n",
            " [9.99999166e-01]\n",
            " [9.98684347e-01]\n",
            " [9.99998391e-01]\n",
            " [9.99997616e-01]\n",
            " [9.99689460e-01]\n",
            " [9.99933660e-01]\n",
            " [1.45412562e-08]\n",
            " [9.99817491e-01]\n",
            " [1.00000000e+00]\n",
            " [9.99995768e-01]\n",
            " [9.99999344e-01]\n",
            " [9.99958754e-01]\n",
            " [4.96576831e-06]\n",
            " [3.79331505e-06]\n",
            " [6.13042772e-08]\n",
            " [4.89153855e-08]\n",
            " [9.99908686e-01]\n",
            " [9.99999464e-01]\n",
            " [9.99990225e-01]\n",
            " [1.10980913e-09]\n",
            " [9.98667777e-01]\n",
            " [1.06145364e-07]\n",
            " [1.33510568e-07]\n",
            " [6.81690949e-07]\n",
            " [3.61986281e-06]\n",
            " [9.99999046e-01]\n",
            " [4.76692048e-06]\n",
            " [5.80932351e-08]\n",
            " [2.88090742e-08]\n",
            " [2.08485741e-04]\n",
            " [2.03188591e-07]\n",
            " [9.99994576e-01]\n",
            " [1.35081355e-05]\n",
            " [9.99994814e-01]\n",
            " [9.99961972e-01]\n",
            " [6.36160191e-09]\n",
            " [1.30664674e-07]\n",
            " [1.21274613e-09]\n",
            " [9.99997199e-01]\n",
            " [1.44628996e-06]\n",
            " [6.66435608e-06]\n",
            " [3.14682637e-07]\n",
            " [9.99999285e-01]\n",
            " [9.99740422e-01]\n",
            " [9.99520481e-01]\n",
            " [3.62359913e-07]\n",
            " [3.04820365e-04]\n",
            " [9.92227018e-01]\n",
            " [2.09661681e-04]\n",
            " [2.40392268e-07]\n",
            " [3.17439226e-05]\n",
            " [5.24142051e-05]\n",
            " [8.82287338e-07]\n",
            " [9.95721161e-01]\n",
            " [9.07977104e-01]\n",
            " [1.64649322e-07]\n",
            " [9.99966621e-01]\n",
            " [1.11807035e-08]\n",
            " [3.26268235e-09]\n",
            " [2.70849432e-06]\n",
            " [9.99784291e-01]\n",
            " [1.16582582e-04]\n",
            " [9.99876559e-01]\n",
            " [8.84317706e-06]\n",
            " [8.94643009e-01]\n",
            " [7.03762225e-07]\n",
            " [9.99952674e-01]\n",
            " [1.84574978e-09]\n",
            " [3.13031059e-08]\n",
            " [2.21363043e-05]\n",
            " [9.99996245e-01]\n",
            " [9.99999762e-01]\n",
            " [7.73470106e-08]\n",
            " [9.99965727e-01]\n",
            " [8.17743785e-05]\n",
            " [7.00960413e-07]\n",
            " [9.99976277e-01]\n",
            " [4.45422275e-11]\n",
            " [9.99956906e-01]\n",
            " [9.99984682e-01]\n",
            " [5.42133115e-04]\n",
            " [2.03989635e-04]\n",
            " [4.75097913e-03]\n",
            " [1.82293843e-05]\n",
            " [5.85907515e-07]\n",
            " [1.00000000e+00]\n",
            " [9.99999702e-01]\n",
            " [2.65972258e-08]\n",
            " [8.59828742e-09]\n",
            " [9.99173582e-01]\n",
            " [9.99914408e-01]\n",
            " [1.00000000e+00]\n",
            " [1.80923307e-04]\n",
            " [9.99949574e-01]\n",
            " [9.99997377e-01]\n",
            " [9.99965250e-01]\n",
            " [9.99976337e-01]\n",
            " [1.57267015e-04]\n",
            " [8.09902811e-10]\n",
            " [9.99999881e-01]\n",
            " [9.47398543e-01]\n",
            " [9.99987841e-01]\n",
            " [9.99983132e-01]\n",
            " [9.99954402e-01]\n",
            " [9.99799728e-01]\n",
            " [9.99998033e-01]\n",
            " [1.74693560e-05]\n",
            " [9.99966025e-01]\n",
            " [1.00000000e+00]\n",
            " [9.99904275e-01]\n",
            " [1.00000000e+00]\n",
            " [5.01910602e-09]\n",
            " [1.37288723e-07]\n",
            " [9.99999225e-01]\n",
            " [1.61344742e-05]\n",
            " [2.12178620e-05]\n",
            " [5.32679394e-07]\n",
            " [2.21375913e-07]\n",
            " [6.70319594e-07]\n",
            " [8.10870115e-05]\n",
            " [1.15601642e-06]\n",
            " [9.99974787e-01]\n",
            " [6.67811983e-05]\n",
            " [1.10268212e-08]\n",
            " [5.15649390e-07]\n",
            " [2.12850246e-05]\n",
            " [1.97062011e-08]\n",
            " [1.00000000e+00]\n",
            " [9.98943210e-01]\n",
            " [9.99999821e-01]\n",
            " [1.11892016e-03]\n",
            " [1.80563287e-09]\n",
            " [9.99998868e-01]\n",
            " [9.99999881e-01]\n",
            " [9.99987900e-01]\n",
            " [5.14441126e-07]\n",
            " [9.99999821e-01]\n",
            " [9.99966323e-01]\n",
            " [3.92933507e-05]\n",
            " [2.42806692e-07]\n",
            " [1.00000000e+00]\n",
            " [9.99996126e-01]\n",
            " [9.99948740e-01]\n",
            " [9.99996960e-01]\n",
            " [6.05108053e-09]]\n"
          ]
        }
      ]
    },
    {
      "cell_type": "code",
      "source": [
        "len(predictions)"
      ],
      "metadata": {
        "colab": {
          "base_uri": "https://localhost:8080/"
        },
        "id": "MuhCUYGVKl4I",
        "outputId": "31b43fa8-7b1e-4c6e-ddd9-54ba5d7ccb38"
      },
      "execution_count": 12,
      "outputs": [
        {
          "output_type": "execute_result",
          "data": {
            "text/plain": [
              "694"
            ]
          },
          "metadata": {},
          "execution_count": 12
        }
      ]
    },
    {
      "cell_type": "code",
      "source": [
        "from sklearn.metrics import confusion_matrix, classification_report\n",
        "\n",
        "\n",
        "true_labels = test_data.classes\n",
        "predicted_labels = (predictions > 0.5).astype(int)\n",
        "\n",
        "\n",
        "cm = confusion_matrix(true_labels, predicted_labels)\n",
        "\n",
        "\n",
        "print(\"Confusion Matrix:\")\n",
        "print(cm)\n",
        "\n",
        "\n",
        "print(\"Classification Report:\")\n",
        "print(classification_report(true_labels, predicted_labels))"
      ],
      "metadata": {
        "colab": {
          "base_uri": "https://localhost:8080/"
        },
        "id": "AOxaH-bPKnmV",
        "outputId": "1298fedc-071d-43f8-a047-bdec0876d539"
      },
      "execution_count": 13,
      "outputs": [
        {
          "output_type": "stream",
          "name": "stdout",
          "text": [
            "Confusion Matrix:\n",
            "[[185 169]\n",
            " [176 164]]\n",
            "Classification Report:\n",
            "              precision    recall  f1-score   support\n",
            "\n",
            "           0       0.51      0.52      0.52       354\n",
            "           1       0.49      0.48      0.49       340\n",
            "\n",
            "    accuracy                           0.50       694\n",
            "   macro avg       0.50      0.50      0.50       694\n",
            "weighted avg       0.50      0.50      0.50       694\n",
            "\n"
          ]
        }
      ]
    },
    {
      "cell_type": "code",
      "source": [
        "# create CNN model\n",
        "\n",
        "model = Sequential()\n",
        "\n",
        "model.add(Conv2D(32,kernel_size=(3,3),padding='valid',activation='relu',input_shape=(256,256,3)))  # 32 filters\n",
        "model.add(BatchNormalization())\n",
        "model.add(MaxPooling2D(pool_size=(2,2),strides=2,padding='valid'))\n",
        "\n",
        "model.add(Conv2D(64,kernel_size=(3,3),padding='valid',activation='relu'))\n",
        "model.add(BatchNormalization())\n",
        "model.add(MaxPooling2D(pool_size=(2,2),strides=2,padding='valid'))\n",
        "\n",
        "model.add(Conv2D(128,kernel_size=(3,3),padding='valid',activation='relu'))\n",
        "model.add(BatchNormalization())\n",
        "model.add(MaxPooling2D(pool_size=(2,2),strides=2,padding='valid'))\n",
        "\n",
        "model.add(Flatten())\n",
        "\n",
        "model.add(Dense(128,activation='relu'))\n",
        "model.add(Dropout(0.1))\n",
        "model.add(Dense(64,activation='relu'))\n",
        "model.add(Dropout(0.1))\n",
        "model.add(Dense(1,activation='sigmoid'))"
      ],
      "metadata": {
        "colab": {
          "base_uri": "https://localhost:8080/"
        },
        "id": "UOtd7X_BK-sG",
        "outputId": "3cc0cfb3-6683-408c-c34f-2a1444803427"
      },
      "execution_count": 14,
      "outputs": [
        {
          "output_type": "stream",
          "name": "stderr",
          "text": [
            "/usr/local/lib/python3.10/dist-packages/keras/src/layers/convolutional/base_conv.py:107: UserWarning: Do not pass an `input_shape`/`input_dim` argument to a layer. When using Sequential models, prefer using an `Input(shape)` object as the first layer in the model instead.\n",
            "  super().__init__(activity_regularizer=activity_regularizer, **kwargs)\n"
          ]
        }
      ]
    },
    {
      "cell_type": "code",
      "source": [
        "from keras.optimizers import Adam\n",
        "model.compile(optimizer=Adam(learning_rate=0.001),loss='binary_crossentropy',metrics=['accuracy'])"
      ],
      "metadata": {
        "id": "EAsU5gtgLG37"
      },
      "execution_count": 15,
      "outputs": []
    },
    {
      "cell_type": "code",
      "source": [
        "history = model.fit(train_data, epochs=10, validation_data=validation_data)"
      ],
      "metadata": {
        "colab": {
          "base_uri": "https://localhost:8080/"
        },
        "id": "3cle-YF0LL9H",
        "outputId": "435285af-eaef-4304-cc74-ec5006aad8a6"
      },
      "execution_count": 16,
      "outputs": [
        {
          "output_type": "stream",
          "name": "stdout",
          "text": [
            "Epoch 1/10\n",
            "\u001b[1m18/18\u001b[0m \u001b[32m━━━━━━━━━━━━━━━━━━━━\u001b[0m\u001b[37m\u001b[0m \u001b[1m150s\u001b[0m 8s/step - accuracy: 0.6492 - loss: 5.5678 - val_accuracy: 0.4928 - val_loss: 8.9497\n",
            "Epoch 2/10\n",
            "\u001b[1m18/18\u001b[0m \u001b[32m━━━━━━━━━━━━━━━━━━━━\u001b[0m\u001b[37m\u001b[0m \u001b[1m191s\u001b[0m 7s/step - accuracy: 0.8201 - loss: 1.8749 - val_accuracy: 0.4928 - val_loss: 32.1510\n",
            "Epoch 3/10\n",
            "\u001b[1m18/18\u001b[0m \u001b[32m━━━━━━━━━━━━━━━━━━━━\u001b[0m\u001b[37m\u001b[0m \u001b[1m135s\u001b[0m 7s/step - accuracy: 0.8757 - loss: 1.4662 - val_accuracy: 0.4928 - val_loss: 37.2074\n",
            "Epoch 4/10\n",
            "\u001b[1m18/18\u001b[0m \u001b[32m━━━━━━━━━━━━━━━━━━━━\u001b[0m\u001b[37m\u001b[0m \u001b[1m141s\u001b[0m 7s/step - accuracy: 0.8406 - loss: 1.6931 - val_accuracy: 0.4928 - val_loss: 38.1606\n",
            "Epoch 5/10\n",
            "\u001b[1m18/18\u001b[0m \u001b[32m━━━━━━━━━━━━━━━━━━━━\u001b[0m\u001b[37m\u001b[0m \u001b[1m153s\u001b[0m 8s/step - accuracy: 0.9163 - loss: 0.8538 - val_accuracy: 0.4928 - val_loss: 33.4583\n",
            "Epoch 6/10\n",
            "\u001b[1m18/18\u001b[0m \u001b[32m━━━━━━━━━━━━━━━━━━━━\u001b[0m\u001b[37m\u001b[0m \u001b[1m136s\u001b[0m 7s/step - accuracy: 0.9323 - loss: 0.9346 - val_accuracy: 0.4928 - val_loss: 48.0881\n",
            "Epoch 7/10\n",
            "\u001b[1m18/18\u001b[0m \u001b[32m━━━━━━━━━━━━━━━━━━━━\u001b[0m\u001b[37m\u001b[0m \u001b[1m135s\u001b[0m 8s/step - accuracy: 0.9081 - loss: 0.7443 - val_accuracy: 0.4928 - val_loss: 60.2961\n",
            "Epoch 8/10\n",
            "\u001b[1m18/18\u001b[0m \u001b[32m━━━━━━━━━━━━━━━━━━━━\u001b[0m\u001b[37m\u001b[0m \u001b[1m137s\u001b[0m 7s/step - accuracy: 0.9556 - loss: 0.3613 - val_accuracy: 0.4928 - val_loss: 67.6169\n",
            "Epoch 9/10\n",
            "\u001b[1m18/18\u001b[0m \u001b[32m━━━━━━━━━━━━━━━━━━━━\u001b[0m\u001b[37m\u001b[0m \u001b[1m146s\u001b[0m 8s/step - accuracy: 0.9667 - loss: 0.4113 - val_accuracy: 0.4928 - val_loss: 52.7240\n",
            "Epoch 10/10\n",
            "\u001b[1m18/18\u001b[0m \u001b[32m━━━━━━━━━━━━━━━━━━━━\u001b[0m\u001b[37m\u001b[0m \u001b[1m134s\u001b[0m 7s/step - accuracy: 0.9440 - loss: 0.4816 - val_accuracy: 0.4928 - val_loss: 52.2594\n"
          ]
        }
      ]
    },
    {
      "cell_type": "code",
      "source": [
        "test_datagen = ImageDataGenerator(rescale=1./255)\n",
        "test_data = test_datagen.flow_from_directory(\n",
        "    test_dir,\n",
        "    target_size=(256,256),\n",
        "    batch_size=32,\n",
        "    class_mode='binary'\n",
        ")"
      ],
      "metadata": {
        "colab": {
          "base_uri": "https://localhost:8080/"
        },
        "id": "I3NmqbCfQ8wq",
        "outputId": "56b8fa46-9818-4046-d7f5-47e381c71201"
      },
      "execution_count": 17,
      "outputs": [
        {
          "output_type": "stream",
          "name": "stdout",
          "text": [
            "Found 694 images belonging to 2 classes.\n"
          ]
        }
      ]
    },
    {
      "cell_type": "code",
      "source": [
        "predictions = model.predict(test_data)"
      ],
      "metadata": {
        "colab": {
          "base_uri": "https://localhost:8080/"
        },
        "id": "WOdp7kuxQ-i7",
        "outputId": "462dbb38-4891-489a-c8dc-c700d4fec90b"
      },
      "execution_count": 18,
      "outputs": [
        {
          "output_type": "stream",
          "name": "stderr",
          "text": [
            "/usr/local/lib/python3.10/dist-packages/keras/src/trainers/data_adapters/py_dataset_adapter.py:122: UserWarning: Your `PyDataset` class should call `super().__init__(**kwargs)` in its constructor. `**kwargs` can include `workers`, `use_multiprocessing`, `max_queue_size`. Do not pass these arguments to `fit()`, as they will be ignored.\n",
            "  self._warn_if_super_not_called()\n"
          ]
        },
        {
          "output_type": "stream",
          "name": "stdout",
          "text": [
            "\u001b[1m22/22\u001b[0m \u001b[32m━━━━━━━━━━━━━━━━━━━━\u001b[0m\u001b[37m\u001b[0m \u001b[1m35s\u001b[0m 2s/step\n"
          ]
        }
      ]
    },
    {
      "cell_type": "code",
      "source": [
        "from sklearn.metrics import confusion_matrix, classification_report\n",
        "\n",
        "\n",
        "true_labels = test_data.classes\n",
        "predicted_labels = (predictions > 0.5).astype(int)\n",
        "\n",
        "\n",
        "cm = confusion_matrix(true_labels, predicted_labels)\n",
        "\n",
        "\n",
        "print(\"Confusion Matrix:\")\n",
        "print(cm)\n",
        "\n",
        "\n",
        "print(\"Classification Report after applying techniques to handle overfitting:\")\n",
        "print(classification_report(true_labels, predicted_labels))"
      ],
      "metadata": {
        "colab": {
          "base_uri": "https://localhost:8080/"
        },
        "id": "Ay0TGICSRSAK",
        "outputId": "0bf88fa5-91eb-4f44-dc0d-8e89d13e6612"
      },
      "execution_count": 19,
      "outputs": [
        {
          "output_type": "stream",
          "name": "stdout",
          "text": [
            "Confusion Matrix:\n",
            "[[  0 354]\n",
            " [  0 340]]\n",
            "Classification Report after applying techniques to handle overfitting:\n",
            "              precision    recall  f1-score   support\n",
            "\n",
            "           0       0.00      0.00      0.00       354\n",
            "           1       0.49      1.00      0.66       340\n",
            "\n",
            "    accuracy                           0.49       694\n",
            "   macro avg       0.24      0.50      0.33       694\n",
            "weighted avg       0.24      0.49      0.32       694\n",
            "\n"
          ]
        },
        {
          "output_type": "stream",
          "name": "stderr",
          "text": [
            "/usr/local/lib/python3.10/dist-packages/sklearn/metrics/_classification.py:1565: UndefinedMetricWarning: Precision is ill-defined and being set to 0.0 in labels with no predicted samples. Use `zero_division` parameter to control this behavior.\n",
            "  _warn_prf(average, modifier, f\"{metric.capitalize()} is\", len(result))\n",
            "/usr/local/lib/python3.10/dist-packages/sklearn/metrics/_classification.py:1565: UndefinedMetricWarning: Precision is ill-defined and being set to 0.0 in labels with no predicted samples. Use `zero_division` parameter to control this behavior.\n",
            "  _warn_prf(average, modifier, f\"{metric.capitalize()} is\", len(result))\n",
            "/usr/local/lib/python3.10/dist-packages/sklearn/metrics/_classification.py:1565: UndefinedMetricWarning: Precision is ill-defined and being set to 0.0 in labels with no predicted samples. Use `zero_division` parameter to control this behavior.\n",
            "  _warn_prf(average, modifier, f\"{metric.capitalize()} is\", len(result))\n"
          ]
        }
      ]
    },
    {
      "cell_type": "code",
      "source": [
        "import tensorflow as tf\n",
        "from tensorflow import keras\n",
        "from keras import Sequential\n",
        "from keras.layers import Dense,Conv2D,MaxPooling2D,Flatten\n",
        "\n",
        "resnet_model = Sequential()\n",
        "pretrained_model = tf.keras.applications.ResNet50(include_top = False,\n",
        "                                                input_shape = (256,256,3),\n",
        "                                                pooling = 'max', classes = 2,\n",
        "                                                weights = 'imagenet')\n",
        "for layer in pretrained_model.layers:\n",
        "    layer.trainable = False\n",
        "\n",
        "resnet_model.add(pretrained_model)\n",
        "resnet_model.add(Flatten())\n",
        "resnet_model.add(Dense(512, activation = 'relu'))\n",
        "resnet_model.add(Dense(1, activation = 'sigmoid'))"
      ],
      "metadata": {
        "colab": {
          "base_uri": "https://localhost:8080/"
        },
        "id": "Es9uflStRb_4",
        "outputId": "c40938ba-50d4-4baf-d8b5-1234d72ae0b8"
      },
      "execution_count": 20,
      "outputs": [
        {
          "output_type": "stream",
          "name": "stdout",
          "text": [
            "Downloading data from https://storage.googleapis.com/tensorflow/keras-applications/resnet/resnet50_weights_tf_dim_ordering_tf_kernels_notop.h5\n",
            "\u001b[1m94765736/94765736\u001b[0m \u001b[32m━━━━━━━━━━━━━━━━━━━━\u001b[0m\u001b[37m\u001b[0m \u001b[1m1s\u001b[0m 0us/step\n"
          ]
        }
      ]
    },
    {
      "cell_type": "code",
      "source": [
        "from keras.optimizers import Adam\n",
        "resnet_model.compile(optimizer=Adam(learning_rate=0.001),loss='binary_crossentropy',metrics=['accuracy'])"
      ],
      "metadata": {
        "id": "hhHxCPQARpAv"
      },
      "execution_count": 21,
      "outputs": []
    },
    {
      "cell_type": "code",
      "source": [
        "history = resnet_model.fit(train_data, epochs=10, validation_data=validation_data)"
      ],
      "metadata": {
        "colab": {
          "base_uri": "https://localhost:8080/"
        },
        "id": "_x4lkn3IRq4Q",
        "outputId": "2db6898e-b3e7-4766-ac8e-93eed834068a"
      },
      "execution_count": 22,
      "outputs": [
        {
          "output_type": "stream",
          "name": "stdout",
          "text": [
            "Epoch 1/10\n",
            "\u001b[1m18/18\u001b[0m \u001b[32m━━━━━━━━━━━━━━━━━━━━\u001b[0m\u001b[37m\u001b[0m \u001b[1m182s\u001b[0m 10s/step - accuracy: 0.5333 - loss: 3.6415 - val_accuracy: 0.7174 - val_loss: 0.6160\n",
            "Epoch 2/10\n",
            "\u001b[1m18/18\u001b[0m \u001b[32m━━━━━━━━━━━━━━━━━━━━\u001b[0m\u001b[37m\u001b[0m \u001b[1m199s\u001b[0m 10s/step - accuracy: 0.6528 - loss: 0.9420 - val_accuracy: 0.8623 - val_loss: 0.3821\n",
            "Epoch 3/10\n",
            "\u001b[1m18/18\u001b[0m \u001b[32m━━━━━━━━━━━━━━━━━━━━\u001b[0m\u001b[37m\u001b[0m \u001b[1m192s\u001b[0m 9s/step - accuracy: 0.7156 - loss: 0.6762 - val_accuracy: 0.8333 - val_loss: 0.3518\n",
            "Epoch 4/10\n",
            "\u001b[1m18/18\u001b[0m \u001b[32m━━━━━━━━━━━━━━━━━━━━\u001b[0m\u001b[37m\u001b[0m \u001b[1m161s\u001b[0m 9s/step - accuracy: 0.7826 - loss: 0.4882 - val_accuracy: 0.8333 - val_loss: 0.4202\n",
            "Epoch 5/10\n",
            "\u001b[1m18/18\u001b[0m \u001b[32m━━━━━━━━━━━━━━━━━━━━\u001b[0m\u001b[37m\u001b[0m \u001b[1m166s\u001b[0m 9s/step - accuracy: 0.7058 - loss: 0.6641 - val_accuracy: 0.8551 - val_loss: 0.3472\n",
            "Epoch 6/10\n",
            "\u001b[1m18/18\u001b[0m \u001b[32m━━━━━━━━━━━━━━━━━━━━\u001b[0m\u001b[37m\u001b[0m \u001b[1m161s\u001b[0m 9s/step - accuracy: 0.7993 - loss: 0.4350 - val_accuracy: 0.7319 - val_loss: 0.5420\n",
            "Epoch 7/10\n",
            "\u001b[1m18/18\u001b[0m \u001b[32m━━━━━━━━━━━━━━━━━━━━\u001b[0m\u001b[37m\u001b[0m \u001b[1m161s\u001b[0m 9s/step - accuracy: 0.7336 - loss: 0.5519 - val_accuracy: 0.7464 - val_loss: 0.5247\n",
            "Epoch 8/10\n",
            "\u001b[1m18/18\u001b[0m \u001b[32m━━━━━━━━━━━━━━━━━━━━\u001b[0m\u001b[37m\u001b[0m \u001b[1m208s\u001b[0m 9s/step - accuracy: 0.7499 - loss: 0.5332 - val_accuracy: 0.8261 - val_loss: 0.4541\n",
            "Epoch 9/10\n",
            "\u001b[1m18/18\u001b[0m \u001b[32m━━━━━━━━━━━━━━━━━━━━\u001b[0m\u001b[37m\u001b[0m \u001b[1m161s\u001b[0m 9s/step - accuracy: 0.7127 - loss: 0.5612 - val_accuracy: 0.8551 - val_loss: 0.3511\n",
            "Epoch 10/10\n",
            "\u001b[1m18/18\u001b[0m \u001b[32m━━━━━━━━━━━━━━━━━━━━\u001b[0m\u001b[37m\u001b[0m \u001b[1m214s\u001b[0m 10s/step - accuracy: 0.8608 - loss: 0.3712 - val_accuracy: 0.8478 - val_loss: 0.3277\n"
          ]
        }
      ]
    },
    {
      "cell_type": "code",
      "source": [
        "predictions = resnet_model.predict(test_data)"
      ],
      "metadata": {
        "colab": {
          "base_uri": "https://localhost:8080/"
        },
        "id": "20WxZ3Exh6qO",
        "outputId": "f12076ab-9c9a-4479-922c-623f5372719c"
      },
      "execution_count": 24,
      "outputs": [
        {
          "output_type": "stream",
          "name": "stdout",
          "text": [
            "\u001b[1m22/22\u001b[0m \u001b[32m━━━━━━━━━━━━━━━━━━━━\u001b[0m\u001b[37m\u001b[0m \u001b[1m166s\u001b[0m 8s/step\n"
          ]
        }
      ]
    },
    {
      "cell_type": "code",
      "source": [
        "from sklearn.metrics import confusion_matrix, classification_report\n",
        "\n",
        "\n",
        "true_labels = test_data.classes\n",
        "predicted_labels = (predictions > 0.5).astype(int)\n",
        "\n",
        "\n",
        "cm = confusion_matrix(true_labels, predicted_labels)\n",
        "\n",
        "\n",
        "print(\"Confusion Matrix:\")\n",
        "print(cm)\n",
        "\n",
        "\n",
        "print(\"Classification Report after applying techniques to handle overfitting:\")\n",
        "print(classification_report(true_labels, predicted_labels))"
      ],
      "metadata": {
        "colab": {
          "base_uri": "https://localhost:8080/"
        },
        "id": "vsXxy7gminSt",
        "outputId": "67cb4073-6922-4476-9542-6efe1baed88f"
      },
      "execution_count": 25,
      "outputs": [
        {
          "output_type": "stream",
          "name": "stdout",
          "text": [
            "Confusion Matrix:\n",
            "[[174 180]\n",
            " [164 176]]\n",
            "Classification Report after applying techniques to handle overfitting:\n",
            "              precision    recall  f1-score   support\n",
            "\n",
            "           0       0.51      0.49      0.50       354\n",
            "           1       0.49      0.52      0.51       340\n",
            "\n",
            "    accuracy                           0.50       694\n",
            "   macro avg       0.50      0.50      0.50       694\n",
            "weighted avg       0.50      0.50      0.50       694\n",
            "\n"
          ]
        }
      ]
    }
  ]
}